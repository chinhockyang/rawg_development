{
 "cells": [
  {
   "attachments": {},
   "cell_type": "markdown",
   "metadata": {},
   "source": [
    "# Temporary Notebook: Extracting Initial Publisher Data\n"
   ]
  },
  {
   "cell_type": "code",
   "execution_count": 1,
   "metadata": {},
   "outputs": [],
   "source": [
    "# Temporary Notebook: Extracting Initial Game Details Data\n",
    "import pandas as pd\n",
    "import os\n",
    "import requests\n",
    "import numpy as np\n",
    "\n",
    "# create a .env file and store RAWG_TOKEN=\"<Your API Key>\"\n",
    "from dotenv import load_dotenv\n",
    "load_dotenv()\n",
    "\n",
    "RAWG_TOKEN = os.getenv('RAWG_TOKEN')\n",
    "\n",
    "\n",
    "from utilities import (\n",
    "    get_list_response,\n",
    "    get_detail_response,\n",
    "    transform_game_list_api,\n",
    "    transform_game_detail_api,\n",
    "    create_dictionary_from_df\n",
    ")"
   ]
  },
  {
   "cell_type": "code",
   "execution_count": 2,
   "metadata": {},
   "outputs": [],
   "source": [
    "raw_data_directory = os.path.join(os.getcwd(), \"initial_upload_raw_data\")"
   ]
  },
  {
   "cell_type": "code",
   "execution_count": 60,
   "metadata": {},
   "outputs": [],
   "source": [
    "df_game_details_publishers = pd.read_csv(os.path.join(raw_data_directory, \"game_details_publisher.csv\"))\n",
    "df_game_details_publishers[\"publisher_id\"] = df_game_details_publishers[\"publisher_id\"].astype(int)"
   ]
  },
  {
   "cell_type": "code",
   "execution_count": 63,
   "metadata": {},
   "outputs": [
    {
     "name": "stdout",
     "output_type": "stream",
     "text": [
      "31757\n"
     ]
    }
   ],
   "source": [
    "publishers_lst = df_game_details_publishers[\"publisher_id\"].unique().tolist()\n",
    "print(len(publishers_lst))"
   ]
  },
  {
   "cell_type": "code",
   "execution_count": 71,
   "metadata": {},
   "outputs": [],
   "source": [
    "df_publishers = pd.DataFrame()"
   ]
  },
  {
   "cell_type": "code",
   "execution_count": 72,
   "metadata": {},
   "outputs": [
    {
     "name": "stdout",
     "output_type": "stream",
     "text": [
      "Done extracting 0 of 2\n",
      "Done extracting 1 of 2\n"
     ]
    }
   ],
   "source": [
    "index_start = 0\n",
    "index_stop = 2\n",
    "\n",
    "for i in range(index_start, index_stop):\n",
    "    id = publishers_lst[i]\n",
    "    publishers_json = get_detail_response(\n",
    "                                        RAWG_TOKEN, \n",
    "                                        \"publishers\", \n",
    "                                        id)\n",
    "    df_curr_publisher = pd.DataFrame(publishers_json, index=[0])\n",
    "    df_publishers = pd.concat([df_publishers, df_curr_publisher])\n",
    "\n",
    "    print(f\"Done extracting {i} of {index_stop}\")"
   ]
  },
  {
   "cell_type": "code",
   "execution_count": 73,
   "metadata": {},
   "outputs": [
    {
     "name": "stdout",
     "output_type": "stream",
     "text": [
      "1\n"
     ]
    }
   ],
   "source": [
    "# to replace index_start with i incase of bug\n",
    "print(i)"
   ]
  },
  {
   "cell_type": "code",
   "execution_count": 74,
   "metadata": {},
   "outputs": [
    {
     "data": {
      "text/html": [
       "<div>\n",
       "<style scoped>\n",
       "    .dataframe tbody tr th:only-of-type {\n",
       "        vertical-align: middle;\n",
       "    }\n",
       "\n",
       "    .dataframe tbody tr th {\n",
       "        vertical-align: top;\n",
       "    }\n",
       "\n",
       "    .dataframe thead th {\n",
       "        text-align: right;\n",
       "    }\n",
       "</style>\n",
       "<table border=\"1\" class=\"dataframe\">\n",
       "  <thead>\n",
       "    <tr style=\"text-align: right;\">\n",
       "      <th></th>\n",
       "      <th>id</th>\n",
       "      <th>name</th>\n",
       "      <th>slug</th>\n",
       "      <th>games_count</th>\n",
       "      <th>image_background</th>\n",
       "      <th>description</th>\n",
       "    </tr>\n",
       "  </thead>\n",
       "  <tbody>\n",
       "    <tr>\n",
       "      <th>0</th>\n",
       "      <td>11687</td>\n",
       "      <td>Sony Interactive Entertainment</td>\n",
       "      <td>sony-interactive-entertainment</td>\n",
       "      <td>295</td>\n",
       "      <td>https://media.rawg.io/media/games/7b9/7b9f4c71...</td>\n",
       "      <td>&lt;p&gt;Sony Interactive Entertainment is Sony&amp;#39;...</td>\n",
       "    </tr>\n",
       "    <tr>\n",
       "      <th>0</th>\n",
       "      <td>55134</td>\n",
       "      <td>PlayStation PC</td>\n",
       "      <td>playstation-pc-llc</td>\n",
       "      <td>6</td>\n",
       "      <td>https://media.rawg.io/media/games/673/673f27be...</td>\n",
       "      <td></td>\n",
       "    </tr>\n",
       "  </tbody>\n",
       "</table>\n",
       "</div>"
      ],
      "text/plain": [
       "      id                            name                            slug  \\\n",
       "0  11687  Sony Interactive Entertainment  sony-interactive-entertainment   \n",
       "0  55134                  PlayStation PC              playstation-pc-llc   \n",
       "\n",
       "   games_count                                   image_background  \\\n",
       "0          295  https://media.rawg.io/media/games/7b9/7b9f4c71...   \n",
       "0            6  https://media.rawg.io/media/games/673/673f27be...   \n",
       "\n",
       "                                         description  \n",
       "0  <p>Sony Interactive Entertainment is Sony&#39;...  \n",
       "0                                                     "
      ]
     },
     "execution_count": 74,
     "metadata": {},
     "output_type": "execute_result"
    }
   ],
   "source": [
    "df_publishers"
   ]
  },
  {
   "cell_type": "code",
   "execution_count": null,
   "metadata": {},
   "outputs": [],
   "source": [
    "df_publishers.to_csv(os.path.join(raw_data_directory, f\"publisher_data_{index_start}_{i}.csv\"), index=False)"
   ]
  }
 ],
 "metadata": {
  "kernelspec": {
   "display_name": "venv",
   "language": "python",
   "name": "python3"
  },
  "language_info": {
   "codemirror_mode": {
    "name": "ipython",
    "version": 3
   },
   "file_extension": ".py",
   "mimetype": "text/x-python",
   "name": "python",
   "nbconvert_exporter": "python",
   "pygments_lexer": "ipython3",
   "version": "3.8.8"
  },
  "orig_nbformat": 4
 },
 "nbformat": 4,
 "nbformat_minor": 2
}
