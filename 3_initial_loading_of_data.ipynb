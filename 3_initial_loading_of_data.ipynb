{
 "cells": [
  {
   "cell_type": "code",
   "execution_count": 1,
   "metadata": {},
   "outputs": [],
   "source": [
    "import pandas as pd\n",
    "import numpy as np\n",
    "import os"
   ]
  },
  {
   "cell_type": "code",
   "execution_count": 2,
   "metadata": {},
   "outputs": [],
   "source": [
    "from dotenv import load_dotenv\n",
    "dotenv = load_dotenv()\n",
    "CONNECTION_STRING = os.getenv(\"MYSQL_CONNECTION_STRING\")"
   ]
  },
  {
   "cell_type": "code",
   "execution_count": 3,
   "metadata": {},
   "outputs": [],
   "source": [
    "from utilities import (\n",
    "    session_engine_from_connection_string,\n",
    "    convert_df_to_lst_of_table_objects\n",
    ")\n",
    "\n",
    "from database import (\n",
    "    Base,\n",
    "    Game\n",
    ")"
   ]
  },
  {
   "attachments": {},
   "cell_type": "markdown",
   "metadata": {},
   "source": [
    "# Load Data into Database\n",
    "- Load Games entity only"
   ]
  },
  {
   "cell_type": "code",
   "execution_count": 4,
   "metadata": {},
   "outputs": [],
   "source": [
    "Base.metadata.schema"
   ]
  },
  {
   "cell_type": "code",
   "execution_count": 5,
   "metadata": {},
   "outputs": [],
   "source": [
    "# create session and engine\n",
    "session, engine = session_engine_from_connection_string(CONNECTION_STRING)\n",
    "\n",
    "conn = engine.connect()\n",
    "\n",
    "# tables to be created\n",
    "table_objects = [\n",
    "    Game.__table__,\n",
    "]\n",
    "\n",
    "# Drop All Tables\n",
    "Base.metadata.drop_all(engine, table_objects)\n",
    "\n",
    "# Create All Tables\n",
    "Base.metadata.create_all(engine, table_objects)\n",
    "# session.close()"
   ]
  },
  {
   "cell_type": "code",
   "execution_count": 6,
   "metadata": {},
   "outputs": [],
   "source": [
    "data_folder = os.path.join(os.getcwd(), \"transformed_data\")\n",
    "file_name = \"entity_game.csv\"\n",
    "game_file_path = os.path.join(data_folder, file_name)\n",
    "df_game = pd.read_csv(game_file_path)"
   ]
  },
  {
   "cell_type": "code",
   "execution_count": 7,
   "metadata": {},
   "outputs": [],
   "source": [
    "game_obj = convert_df_to_lst_of_table_objects(df_game, Game)"
   ]
  },
  {
   "cell_type": "code",
   "execution_count": 8,
   "metadata": {},
   "outputs": [],
   "source": [
    "session.add_all(game_obj)\n",
    "session.commit()"
   ]
  },
  {
   "cell_type": "code",
   "execution_count": 9,
   "metadata": {},
   "outputs": [],
   "source": [
    "session.close()"
   ]
  }
 ],
 "metadata": {
  "kernelspec": {
   "display_name": "venv",
   "language": "python",
   "name": "python3"
  },
  "language_info": {
   "codemirror_mode": {
    "name": "ipython",
    "version": 3
   },
   "file_extension": ".py",
   "mimetype": "text/x-python",
   "name": "python",
   "nbconvert_exporter": "python",
   "pygments_lexer": "ipython3",
   "version": "3.8.8"
  },
  "orig_nbformat": 4,
  "vscode": {
   "interpreter": {
    "hash": "fd7b989ae910ed712cfb3f3030c5e3b8e8e62ffee64571e94f6af311743ef91e"
   }
  }
 },
 "nbformat": 4,
 "nbformat_minor": 2
}
