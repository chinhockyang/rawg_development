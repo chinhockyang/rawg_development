{
 "cells": [
  {
   "attachments": {},
   "cell_type": "markdown",
   "metadata": {},
   "source": [
    "# Temporary Notebook: Extracting Initial Game Details Data\n",
    "\n",
    "Scope:\n",
    "- Games Released from 2018 to 2023\n",
    "- Non-Indie Games (Games not released on Itch.io)"
   ]
  },
  {
   "cell_type": "code",
   "execution_count": 1,
   "metadata": {},
   "outputs": [],
   "source": [
    "import pandas as pd\n",
    "import os\n",
    "import requests\n",
    "import numpy as np\n",
    "\n",
    "# create a .env file and store RAWG_TOKEN=\"<Your API Key>\"\n",
    "from dotenv import load_dotenv\n",
    "load_dotenv()\n",
    "\n",
    "RAWG_TOKEN = os.getenv('RAWG_TOKEN')\n",
    "\n",
    "\n",
    "from utilities import (\n",
    "    get_list_response,\n",
    "    get_detail_response,\n",
    "    transform_game_list_api,\n",
    "    transform_game_detail_api,\n",
    "    create_dictionary_from_df\n",
    ")"
   ]
  },
  {
   "attachments": {},
   "cell_type": "markdown",
   "metadata": {},
   "source": [
    "### 1: Importing the list of ID and slug_name of all Games"
   ]
  },
  {
   "cell_type": "code",
   "execution_count": 2,
   "metadata": {},
   "outputs": [],
   "source": [
    "raw_data_directory = os.path.join(os.getcwd(), \"initial_upload_raw_data\")"
   ]
  },
  {
   "cell_type": "code",
   "execution_count": 3,
   "metadata": {},
   "outputs": [],
   "source": [
    "df_game_tag = pd.read_csv(os.path.join(raw_data_directory, \"game_tag.csv\"))"
   ]
  },
  {
   "cell_type": "code",
   "execution_count": 4,
   "metadata": {},
   "outputs": [],
   "source": [
    "df_game_data = pd.read_csv(os.path.join(raw_data_directory, \"game_data.csv\"))"
   ]
  },
  {
   "cell_type": "code",
   "execution_count": 5,
   "metadata": {},
   "outputs": [
    {
     "data": {
      "text/html": [
       "<div>\n",
       "<style scoped>\n",
       "    .dataframe tbody tr th:only-of-type {\n",
       "        vertical-align: middle;\n",
       "    }\n",
       "\n",
       "    .dataframe tbody tr th {\n",
       "        vertical-align: top;\n",
       "    }\n",
       "\n",
       "    .dataframe thead th {\n",
       "        text-align: right;\n",
       "    }\n",
       "</style>\n",
       "<table border=\"1\" class=\"dataframe\">\n",
       "  <thead>\n",
       "    <tr style=\"text-align: right;\">\n",
       "      <th></th>\n",
       "      <th>id</th>\n",
       "      <th>slug</th>\n",
       "    </tr>\n",
       "  </thead>\n",
       "  <tbody>\n",
       "    <tr>\n",
       "      <th>0</th>\n",
       "      <td>58175</td>\n",
       "      <td>god-of-war-2</td>\n",
       "    </tr>\n",
       "    <tr>\n",
       "      <th>1</th>\n",
       "      <td>29177</td>\n",
       "      <td>detroit-become-human</td>\n",
       "    </tr>\n",
       "    <tr>\n",
       "      <th>2</th>\n",
       "      <td>46889</td>\n",
       "      <td>monster-hunter-world-2</td>\n",
       "    </tr>\n",
       "    <tr>\n",
       "      <th>3</th>\n",
       "      <td>23585</td>\n",
       "      <td>far-cry-5</td>\n",
       "    </tr>\n",
       "    <tr>\n",
       "      <th>4</th>\n",
       "      <td>45969</td>\n",
       "      <td>warhammer-vermintide-2</td>\n",
       "    </tr>\n",
       "    <tr>\n",
       "      <th>...</th>\n",
       "      <td>...</td>\n",
       "      <td>...</td>\n",
       "    </tr>\n",
       "    <tr>\n",
       "      <th>66296</th>\n",
       "      <td>926947</td>\n",
       "      <td>modern-cannon-strike</td>\n",
       "    </tr>\n",
       "    <tr>\n",
       "      <th>66297</th>\n",
       "      <td>926877</td>\n",
       "      <td>card-brawl-dungeon-slayer</td>\n",
       "    </tr>\n",
       "    <tr>\n",
       "      <th>66298</th>\n",
       "      <td>926972</td>\n",
       "      <td>qbert-2023</td>\n",
       "    </tr>\n",
       "    <tr>\n",
       "      <th>66299</th>\n",
       "      <td>926914</td>\n",
       "      <td>3d-car-game-parking-jam</td>\n",
       "    </tr>\n",
       "    <tr>\n",
       "      <th>66300</th>\n",
       "      <td>913260</td>\n",
       "      <td>punch-a-bunch-2</td>\n",
       "    </tr>\n",
       "  </tbody>\n",
       "</table>\n",
       "<p>66301 rows × 2 columns</p>\n",
       "</div>"
      ],
      "text/plain": [
       "           id                       slug\n",
       "0       58175               god-of-war-2\n",
       "1       29177       detroit-become-human\n",
       "2       46889     monster-hunter-world-2\n",
       "3       23585                  far-cry-5\n",
       "4       45969     warhammer-vermintide-2\n",
       "...       ...                        ...\n",
       "66296  926947       modern-cannon-strike\n",
       "66297  926877  card-brawl-dungeon-slayer\n",
       "66298  926972                 qbert-2023\n",
       "66299  926914    3d-car-game-parking-jam\n",
       "66300  913260            punch-a-bunch-2\n",
       "\n",
       "[66301 rows x 2 columns]"
      ]
     },
     "execution_count": 5,
     "metadata": {},
     "output_type": "execute_result"
    }
   ],
   "source": [
    "df_game_data[[\"id\", \"slug\"]]"
   ]
  },
  {
   "cell_type": "code",
   "execution_count": 6,
   "metadata": {},
   "outputs": [],
   "source": [
    "# Dictionary mapping each id to slug incase id fails\n",
    "dct_id_slug = create_dictionary_from_df(df_game_data, \"id\", \"slug\")"
   ]
  },
  {
   "cell_type": "code",
   "execution_count": 7,
   "metadata": {},
   "outputs": [
    {
     "data": {
      "text/plain": [
       "66301"
      ]
     },
     "execution_count": 7,
     "metadata": {},
     "output_type": "execute_result"
    }
   ],
   "source": [
    "game_list_id = df_game_data[\"id\"].unique().tolist()\n",
    "len(game_list_id)"
   ]
  },
  {
   "attachments": {},
   "cell_type": "markdown",
   "metadata": {},
   "source": [
    "### 2: Extracting from Game Details\n",
    "\n",
    "- Will definitely exceed API limit - So have to split into 5 different API calls"
   ]
  },
  {
   "cell_type": "code",
   "execution_count": 8,
   "metadata": {},
   "outputs": [],
   "source": [
    "index_list = [\n",
    "    [0 , 15000],\n",
    "    [15000 , 30000],\n",
    "    [30000 , 45000],\n",
    "    [45000 , 60000],\n",
    "    [60000 , 66301],\n",
    "]"
   ]
  },
  {
   "cell_type": "code",
   "execution_count": 9,
   "metadata": {},
   "outputs": [],
   "source": [
    "df_game_details_data = pd.DataFrame()\n",
    "df_game_details_metacritic = pd.DataFrame()\n",
    "df_game_details_developers = pd.DataFrame()\n",
    "df_game_details_publishers = pd.DataFrame()\n",
    "df_game_details_reactions = pd.DataFrame()"
   ]
  },
  {
   "cell_type": "code",
   "execution_count": 10,
   "metadata": {},
   "outputs": [],
   "source": [
    "index_start = 30000\n",
    "index_stop = 45000"
   ]
  },
  {
   "cell_type": "code",
   "execution_count": 17,
   "metadata": {},
   "outputs": [],
   "source": [
    "for i in range(index_start, index_stop):\n",
    "    game_id = game_list_id[i]\n",
    "\n",
    "    game_detail_json = get_detail_response(RAWG_TOKEN, \"games\", game_id)\n",
    "\n",
    "    if type(game_detail_json) == requests.models.Response:\n",
    "        game_slug = dct_id_slug[game_id]\n",
    "        game_detail_json = get_detail_response(RAWG_TOKEN, \"games\", game_slug)\n",
    "    \n",
    "    dct_game_details = transform_game_detail_api(game_detail_json)\n",
    "\n",
    "    df_game_details_data = pd.concat([df_game_details_data, dct_game_details[\"game_details_data\"]])\n",
    "    df_game_details_metacritic = pd.concat([df_game_details_metacritic, dct_game_details[\"metacritic_platforms\"]])\n",
    "    df_game_details_developers = pd.concat([df_game_details_developers, dct_game_details[\"developers\"]])\n",
    "    df_game_details_publishers = pd.concat([df_game_details_publishers, dct_game_details[\"publishers\"]])\n",
    "    \n",
    "    if \"reactions\" in dct_game_details.keys():\n",
    "        df_game_details_reactions = pd.concat([df_game_details_reactions, dct_game_details[\"reactions\"]])\n",
    "\n",
    "    print(f\"Done Extracting Game {i+1} / {index_stop}\")"
   ]
  },
  {
   "cell_type": "code",
   "execution_count": 12,
   "metadata": {},
   "outputs": [
    {
     "name": "stdout",
     "output_type": "stream",
     "text": [
      "29999\n"
     ]
    }
   ],
   "source": [
    "# to replace index_start with i incase of bug\n",
    "print(i)"
   ]
  },
  {
   "attachments": {},
   "cell_type": "markdown",
   "metadata": {},
   "source": [
    "### 3: Exporting the Data Extracted"
   ]
  },
  {
   "cell_type": "code",
   "execution_count": 16,
   "metadata": {},
   "outputs": [],
   "source": [
    "df_game_details_data.to_csv(os.path.join(raw_data_directory, f\"game_details_data_{index_start}_{i}.csv\"), index=False)\n",
    "df_game_details_metacritic.to_csv(os.path.join(raw_data_directory, f\"game_details_metacritic_{index_start}_{i}.csv\"), index=False)\n",
    "df_game_details_developers.to_csv(os.path.join(raw_data_directory, f\"game_details_developer_{index_start}_{i}.csv\"), index=False)\n",
    "df_game_details_publishers.to_csv(os.path.join(raw_data_directory, f\"game_details_publisher_{index_start}_{i}.csv\"), index=False)\n",
    "df_game_details_reactions.to_csv(os.path.join(raw_data_directory, f\"game_details_reaction_{index_start}_{i}.csv\"), index=False)"
   ]
  }
 ],
 "metadata": {
  "kernelspec": {
   "display_name": "venv",
   "language": "python",
   "name": "python3"
  },
  "language_info": {
   "codemirror_mode": {
    "name": "ipython",
    "version": 3
   },
   "file_extension": ".py",
   "mimetype": "text/x-python",
   "name": "python",
   "nbconvert_exporter": "python",
   "pygments_lexer": "ipython3",
   "version": "3.8.8"
  },
  "orig_nbformat": 4
 },
 "nbformat": 4,
 "nbformat_minor": 2
}
